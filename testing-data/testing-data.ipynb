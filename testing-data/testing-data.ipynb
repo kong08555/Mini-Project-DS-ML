{
 "cells": [
  {
   "cell_type": "code",
   "execution_count": 5,
   "metadata": {},
   "outputs": [],
   "source": [
    "import pandas as pd\n",
    "\n",
    "data = pd.read_csv('../dataset/EPL-players-stats-2020.csv')"
   ]
  },
  {
   "cell_type": "code",
   "execution_count": 6,
   "metadata": {},
   "outputs": [
    {
     "name": "stdout",
     "output_type": "stream",
     "text": [
      "                         Name Position\n",
      "23        Alexandre Lacazette  Forward\n",
      "24  Pierre-Emerick Aubameyang  Forward\n",
      "25               Nicolas Pépé  Forward\n",
      "26               Reiss Nelson  Forward\n",
      "27              Eddie Nketiah  Forward\n"
     ]
    }
   ],
   "source": [
    "\n",
    "\n",
    "# 2. สร้างคอลัมน์ใหม่ 'Position Group' ให้มีแค่ 4 ตำแหน่งหลัก\n",
    "def categorize_position(position):\n",
    "    if position == 'Goalkeeper':\n",
    "        return 'Goalkeeper'\n",
    "    elif position == 'Defender':\n",
    "        return 'Defender'\n",
    "    elif position == 'Midfielder':\n",
    "        return 'Midfielder'\n",
    "    elif position == 'Forward':\n",
    "        return 'Forward'\n",
    "    else:\n",
    "        return 'Unknown'  # ถ้ามีตำแหน่งที่ไม่อยู่ใน 4 ตำแหน่งหลัก\n",
    "\n",
    "# 3. ใช้ฟังก์ชัน categorize_position กับคอลัมน์ 'Position'\n",
    "data['Position Group'] = data['Position'].apply(categorize_position)\n",
    "\n",
    "# 4. กรองข้อมูลเฉพาะนักเตะในตำแหน่ง Defender\n",
    "forward_data = data[data['Position Group'] == 'Forward']\n",
    "\n",
    "# 5. ดูผลลัพธ์ของการจัดกลุ่มเฉพาะตำแหน่ง Defender\n",
    "print(forward_data[['Name', 'Position']].head())\n"
   ]
  },
  {
   "cell_type": "code",
   "execution_count": null,
   "metadata": {},
   "outputs": [],
   "source": [
    "defender_data_data = data[data['Position Group'] == 'Defender']\n",
    "pro"
   ]
  },
  {
   "cell_type": "code",
   "execution_count": null,
   "metadata": {},
   "outputs": [],
   "source": []
  },
  {
   "cell_type": "code",
   "execution_count": null,
   "metadata": {},
   "outputs": [],
   "source": []
  }
 ],
 "metadata": {
  "kernelspec": {
   "display_name": "Python 3",
   "language": "python",
   "name": "python3"
  },
  "language_info": {
   "codemirror_mode": {
    "name": "ipython",
    "version": 3
   },
   "file_extension": ".py",
   "mimetype": "text/x-python",
   "name": "python",
   "nbconvert_exporter": "python",
   "pygments_lexer": "ipython3",
   "version": "3.12.5"
  }
 },
 "nbformat": 4,
 "nbformat_minor": 2
}
